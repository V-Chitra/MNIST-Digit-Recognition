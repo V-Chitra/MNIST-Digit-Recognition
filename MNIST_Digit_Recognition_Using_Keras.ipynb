{
 "cells": [
  {
   "cell_type": "code",
   "execution_count": 110,
   "metadata": {},
   "outputs": [],
   "source": [
    "import pandas as pd\n",
    "import numpy as np\n",
    "import matplotlib.pyplot as plt\n",
    "import matplotlib.image as mpimg\n",
    "import random #for random index generation for division of test and training sets\n",
    "from __future__ import division #Division does not turn integers to floating point in Python 2.7, hence importing this"
   ]
  },
  {
   "cell_type": "code",
   "execution_count": 111,
   "metadata": {},
   "outputs": [
    {
     "name": "stdout",
     "output_type": "stream",
     "text": [
      "Empty DataFrame\n",
      "Columns: []\n",
      "Index: [0, 1, 2, 3, 4, 5, 6, 7, 8, 9, 10, 11, 12, 13, 14, 15, 16, 17, 18, 19, 20, 21, 22, 23, 24, 25, 26, 27, 28, 29, 30, 31, 32, 33, 34, 35, 36, 37, 38, 39, 40, 41, 42, 43, 44, 45, 46, 47, 48, 49, 50, 51, 52, 53, 54, 55, 56, 57, 58, 59, 60, 61, 62, 63, 64, 65, 66, 67, 68, 69, 70, 71, 72, 73, 74, 75, 76, 77, 78, 79, 80, 81, 82, 83, 84, 85, 86, 87, 88, 89, 90, 91, 92, 93, 94, 95, 96, 97, 98, 99, ...]\n",
      "\n",
      "[42000 rows x 0 columns]\n"
     ]
    }
   ],
   "source": [
    "df = pd.read_csv(\"chitra/train.csv\")\n",
    "print df[[]].isnull() # no missing data as indicated on kaggle link"
   ]
  },
  {
   "cell_type": "code",
   "execution_count": 112,
   "metadata": {},
   "outputs": [
    {
     "name": "stdout",
     "output_type": "stream",
     "text": [
      "<class 'pandas.core.frame.DataFrame'>\n",
      "RangeIndex: 42000 entries, 0 to 41999\n",
      "Columns: 785 entries, label to pixel783\n",
      "dtypes: int64(785)\n",
      "memory usage: 251.5 MB\n",
      "None\n",
      "   label  pixel0  pixel1  pixel2  pixel3  pixel4  pixel5  pixel6  pixel7  \\\n",
      "0      1       0       0       0       0       0       0       0       0   \n",
      "1      0       0       0       0       0       0       0       0       0   \n",
      "2      1       0       0       0       0       0       0       0       0   \n",
      "3      4       0       0       0       0       0       0       0       0   \n",
      "4      0       0       0       0       0       0       0       0       0   \n",
      "\n",
      "   pixel8  ...  pixel774  pixel775  pixel776  pixel777  pixel778  pixel779  \\\n",
      "0       0  ...         0         0         0         0         0         0   \n",
      "1       0  ...         0         0         0         0         0         0   \n",
      "2       0  ...         0         0         0         0         0         0   \n",
      "3       0  ...         0         0         0         0         0         0   \n",
      "4       0  ...         0         0         0         0         0         0   \n",
      "\n",
      "   pixel780  pixel781  pixel782  pixel783  \n",
      "0         0         0         0         0  \n",
      "1         0         0         0         0  \n",
      "2         0         0         0         0  \n",
      "3         0         0         0         0  \n",
      "4         0         0         0         0  \n",
      "\n",
      "[5 rows x 785 columns]\n"
     ]
    }
   ],
   "source": [
    "print(df.info())\n",
    "print(df.head())\n",
    "df = df.values #converting to numpy array from data frame"
   ]
  },
  {
   "cell_type": "code",
   "execution_count": 113,
   "metadata": {},
   "outputs": [
    {
     "name": "stdout",
     "output_type": "stream",
     "text": [
      "[2]\n"
     ]
    },
    {
     "data": {
      "image/png": "[encoded data removed]",
      "text/plain": [
       "<Figure size 432x288 with 1 Axes>"
      ]
     },
     "metadata": {
      "needs_background": "light"
     },
     "output_type": "display_data"
    }
   ],
   "source": [
    "x = df[:,1:785] #input\n",
    "y = df[:,[0]]   #output label\n",
    "\n",
    "#Printing example for testing refer to https://matplotlib.org/users/image_tutorial.html\n",
    "example = x[101,]\n",
    "plt.imshow(example.reshape((28,28)))\n",
    "print(y[101])"
   ]
  },
  {
   "cell_type": "code",
   "execution_count": 114,
   "metadata": {},
   "outputs": [],
   "source": [
    "#Max Normalization \n",
    "mean_x = np.mean(x, axis = 0) #taking mean across pixels (single channel here)\n",
    "x = x - mean_x\n",
    "x = x/255"
   ]
  },
  {
   "cell_type": "code",
   "execution_count": 115,
   "metadata": {},
   "outputs": [],
   "source": [
    "#dividing into training and test set\n",
    "index = random.sample(range(0,42000),42000)\n",
    "train_x = x[index[0:int(0.8*42000)],]\n",
    "test_x = x[index[int(0.8*42000):42000],]\n",
    "train_y = y[index[0:int(0.8*42000)],]\n",
    "test_y = y[index[int(0.8*42000):42000],]"
   ]
  },
  {
   "cell_type": "code",
   "execution_count": 116,
   "metadata": {},
   "outputs": [],
   "source": [
    "#converting shape of x to a suitable shape and y to categorical variable for keras operation\n",
    "\n",
    "from tensorflow.python.keras import utils\n",
    "\n",
    "train_y = utils.to_categorical(train_y)\n",
    "test_y = utils.to_categorical(test_y)\n",
    "\n",
    "train_x = np.reshape(train_x, (33600,28,28,1))\n",
    "test_x = np.reshape(test_x,(8400,28,28,1))"
   ]
  },
  {
   "cell_type": "code",
   "execution_count": 117,
   "metadata": {},
   "outputs": [],
   "source": [
    "#building model - conv layer 28x28x16, max pool layer 14x14x16, conv2 layer 14x14x32, max pool2 layer 7x7x32, fc layer of 128 nodes and softmax layer of 10 categories\n",
    "#image of architecture - https://www.easy-tensorflow.com/tf-tutorials/convolutional-neural-nets-cnns\n",
    "\n",
    "from keras.models import Sequential\n",
    "from keras.layers import Dense, Conv2D, Flatten, MaxPool2D\n",
    "\n",
    "model = Sequential()\n",
    "model.add(Conv2D(filters = 16, kernel_size = 5, strides = (1,1), activation = 'relu', input_shape = (28,28,1)))\n",
    "model.add(MaxPool2D(pool_size = 2, strides = (2,2), padding = 'valid'))\n",
    "model.add(Conv2D(filters = 32, kernel_size = 5, strides = (1,1), activation = 'relu'))\n",
    "model.add(MaxPool2D(pool_size = 2, strides = (2,2), padding = 'valid'))\n",
    "model.add(Flatten())\n",
    "model.add(Dense(10, activation = 'softmax'))"
   ]
  },
  {
   "cell_type": "code",
   "execution_count": 118,
   "metadata": {},
   "outputs": [
    {
     "name": "stdout",
     "output_type": "stream",
     "text": [
      "Train on 33600 samples, validate on 8400 samples\n",
      "Epoch 1/7\n",
      "33600/33600 [==============================] - 16s 471us/step - loss: 0.2483 - acc: 0.9290 - val_loss: 0.0919 - val_acc: 0.9708\n",
      "Epoch 2/7\n",
      "33600/33600 [==============================] - 18s 521us/step - loss: 0.0735 - acc: 0.9776 - val_loss: 0.0653 - val_acc: 0.9781\n",
      "Epoch 3/7\n",
      "33600/33600 [==============================] - 14s 419us/step - loss: 0.0508 - acc: 0.9838 - val_loss: 0.0657 - val_acc: 0.9785\n",
      "Epoch 4/7\n",
      "33600/33600 [==============================] - 16s 478us/step - loss: 0.0399 - acc: 0.9874 - val_loss: 0.0496 - val_acc: 0.9835\n",
      "Epoch 5/7\n",
      "33600/33600 [==============================] - 13s 398us/step - loss: 0.0305 - acc: 0.9905 - val_loss: 0.0550 - val_acc: 0.9820\n",
      "Epoch 6/7\n",
      "33600/33600 [==============================] - 13s 392us/step - loss: 0.0256 - acc: 0.9918 - val_loss: 0.0445 - val_acc: 0.9867\n",
      "Epoch 7/7\n",
      "33600/33600 [==============================] - 13s 397us/step - loss: 0.0208 - acc: 0.9936 - val_loss: 0.0440 - val_acc: 0.9867\n"
     ]
    },
    {
     "data": {
      "text/plain": [
       "<keras.callbacks.History at 0x13b651f90>"
      ]
     },
     "execution_count": 118,
     "metadata": {},
     "output_type": "execute_result"
    }
   ],
   "source": [
    "#Model compilation using adam optimization\n",
    "\n",
    "model.compile(optimizer = 'Adam', loss = 'categorical_crossentropy', metrics = ['accuracy'])\n",
    "model.fit(train_x, train_y, validation_data = (test_x,test_y), epochs =7)"
   ]
  },
  {
   "cell_type": "code",
   "execution_count": 119,
   "metadata": {},
   "outputs": [
    {
     "name": "stdout",
     "output_type": "stream",
     "text": [
      "8400/8400 [==============================] - 1s 149us/step\n"
     ]
    },
    {
     "data": {
      "text/plain": [
       "[0.044030064155175797, 0.9866666666666667]"
      ]
     },
     "execution_count": 119,
     "metadata": {},
     "output_type": "execute_result"
    }
   ],
   "source": [
    "#model evaluated to get test accuracy once again\n",
    "model.evaluate(test_x,test_y)"
   ]
  },
  {
   "cell_type": "code",
   "execution_count": 120,
   "metadata": {},
   "outputs": [
    {
     "name": "stdout",
     "output_type": "stream",
     "text": [
      "[3.6598776e-11 5.9284821e-10 1.5594809e-05 6.2733811e-06 2.1725366e-08\n",
      " 6.5322567e-11 7.2501558e-12 9.9980885e-01 1.6920122e-04 1.4804133e-09]\n",
      "[0. 0. 0. 0. 0. 0. 0. 1. 0. 0.]\n"
     ]
    },
    {
     "data": {
      "text/plain": [
       "<matplotlib.image.AxesImage at 0x13119cb10>"
      ]
     },
     "execution_count": 120,
     "metadata": {},
     "output_type": "execute_result"
    },
    {
     "data": {
      "image/png": "[encoded data removed]",
      "text/plain": [
       "<Figure size 432x288 with 1 Axes>"
      ]
     },
     "metadata": {
      "needs_background": "light"
     },
     "output_type": "display_data"
    }
   ],
   "source": [
    "#Example prediction using model\n",
    "\n",
    "print model.predict(test_x)[0]\n",
    "print test_y[0,]\n",
    "example = np.reshape(test_x[0],(1,784))\n",
    "example = (example * 255 + mean_x) #removing normalization\n",
    "plt.imshow(np.reshape(example,(28,28)))"
   ]
  },
  {
   "cell_type": "code",
   "execution_count": 121,
   "metadata": {},
   "outputs": [
    {
     "name": "stdout",
     "output_type": "stream",
     "text": [
      "(28000, 784)\n"
     ]
    }
   ],
   "source": [
    "df_test = pd.read_csv(\"chitra/test.csv\")\n",
    "print(np.shape(df_test))\n",
    "df_test = df_test.values"
   ]
  },
  {
   "cell_type": "code",
   "execution_count": 122,
   "metadata": {},
   "outputs": [],
   "source": [
    "#Mx Normalization\n",
    "mean_x = np.mean(df_test, axis = 0) #taking mean across pixels (single channel here)\n",
    "df_test = (df_test - mean_x)\n",
    "df_test = df_test/255  \n",
    "\n",
    "#Reshaping data\n",
    "df_test = np.reshape(df_test, (28000,28,28,1))"
   ]
  },
  {
   "cell_type": "code",
   "execution_count": 123,
   "metadata": {},
   "outputs": [],
   "source": [
    "df_test_y = model.predict(df_test)"
   ]
  },
  {
   "cell_type": "code",
   "execution_count": 124,
   "metadata": {},
   "outputs": [],
   "source": [
    "output = np.zeros((28000,2), dtype = 'int')\n",
    "output[:,0] = range(1,28001)\n",
    "output[:,1] = np.argmax(df_test_y, axis = 1)\n",
    "df_output = pd.DataFrame(data = output, columns = ['ImageID', 'Label'])"
   ]
  },
  {
   "cell_type": "code",
   "execution_count": 125,
   "metadata": {},
   "outputs": [],
   "source": [
    "export_csv = df_output.to_csv(r\"chitra/output.csv\",index = None, header = True)"
   ]
  }
 ],
 "metadata": {
  "kernelspec": {
   "display_name": "Python 2",
   "language": "python",
   "name": "python2"
  },
  "language_info": {
   "codemirror_mode": {
    "name": "ipython",
    "version": 2
   },
   "file_extension": ".py",
   "mimetype": "text/x-python",
   "name": "python",
   "nbconvert_exporter": "python",
   "pygments_lexer": "ipython2",
   "version": "2.7.16"
  }
 },
 "nbformat": 4,
 "nbformat_minor": 2
}
